{
 "cells": [
  {
   "cell_type": "markdown",
   "metadata": {},
   "source": [
    "# <font color=\"#00adb5\">👉👨‍💻 Catching Illegal Phishing ☠</font>\n",
    "* Phishing is a cybercrime in which a target or targets are contacted by email, telephone or text message by someone posing as a legitimate institution to lure individuals into providing sensitive data such as personally identifiable information, banking and credit card details, and passwords."
   ]
  },
  {
   "cell_type": "code",
   "execution_count": 1,
   "metadata": {},
   "outputs": [
    {
     "data": {
      "text/html": [
       "<script>\n",
       "code_show_err=false; \n",
       "function code_toggle_err() {\n",
       " if (code_show_err){\n",
       " $('div.output_stderr').hide();\n",
       " } else {\n",
       " $('div.output_stderr').show();\n",
       " }\n",
       " code_show_err = !code_show_err\n",
       "} \n",
       "$( document ).ready(code_toggle_err);\n",
       "</script>\n",
       "To toggle on/off output_stderr, click <a href=\"javascript:code_toggle_err()\">here</a>."
      ],
      "text/plain": [
       "<IPython.core.display.HTML object>"
      ]
     },
     "execution_count": 1,
     "metadata": {},
     "output_type": "execute_result"
    }
   ],
   "source": [
    "from IPython.display import HTML\n",
    "HTML('''<script>\n",
    "code_show_err=false; \n",
    "function code_toggle_err() {\n",
    " if (code_show_err){\n",
    " $('div.output_stderr').hide();\n",
    " } else {\n",
    " $('div.output_stderr').show();\n",
    " }\n",
    " code_show_err = !code_show_err\n",
    "} \n",
    "$( document ).ready(code_toggle_err);\n",
    "</script>\n",
    "To toggle on/off output_stderr, click <a href=\"javascript:code_toggle_err()\">here</a>.''')"
   ]
  },
  {
   "cell_type": "code",
   "execution_count": 2,
   "metadata": {},
   "outputs": [],
   "source": [
    "import pandas as pd"
   ]
  },
  {
   "cell_type": "code",
   "execution_count": 3,
   "metadata": {},
   "outputs": [],
   "source": [
    "phishing_data = pd.read_csv('phishing_site_urls.csv')"
   ]
  },
  {
   "cell_type": "code",
   "execution_count": 4,
   "metadata": {
    "scrolled": true
   },
   "outputs": [
    {
     "data": {
      "text/html": [
       "<div>\n",
       "<style scoped>\n",
       "    .dataframe tbody tr th:only-of-type {\n",
       "        vertical-align: middle;\n",
       "    }\n",
       "\n",
       "    .dataframe tbody tr th {\n",
       "        vertical-align: top;\n",
       "    }\n",
       "\n",
       "    .dataframe thead th {\n",
       "        text-align: right;\n",
       "    }\n",
       "</style>\n",
       "<table border=\"1\" class=\"dataframe\">\n",
       "  <thead>\n",
       "    <tr style=\"text-align: right;\">\n",
       "      <th></th>\n",
       "      <th>URL</th>\n",
       "      <th>Label</th>\n",
       "    </tr>\n",
       "  </thead>\n",
       "  <tbody>\n",
       "    <tr>\n",
       "      <th>0</th>\n",
       "      <td>nobell.it/70ffb52d079109dca5664cce6f317373782/...</td>\n",
       "      <td>bad</td>\n",
       "    </tr>\n",
       "    <tr>\n",
       "      <th>1</th>\n",
       "      <td>www.dghjdgf.com/paypal.co.uk/cycgi-bin/webscrc...</td>\n",
       "      <td>bad</td>\n",
       "    </tr>\n",
       "    <tr>\n",
       "      <th>2</th>\n",
       "      <td>serviciosbys.com/paypal.cgi.bin.get-into.herf....</td>\n",
       "      <td>bad</td>\n",
       "    </tr>\n",
       "    <tr>\n",
       "      <th>3</th>\n",
       "      <td>mail.printakid.com/www.online.americanexpress....</td>\n",
       "      <td>bad</td>\n",
       "    </tr>\n",
       "    <tr>\n",
       "      <th>4</th>\n",
       "      <td>thewhiskeydregs.com/wp-content/themes/widescre...</td>\n",
       "      <td>bad</td>\n",
       "    </tr>\n",
       "  </tbody>\n",
       "</table>\n",
       "</div>"
      ],
      "text/plain": [
       "                                                 URL Label\n",
       "0  nobell.it/70ffb52d079109dca5664cce6f317373782/...   bad\n",
       "1  www.dghjdgf.com/paypal.co.uk/cycgi-bin/webscrc...   bad\n",
       "2  serviciosbys.com/paypal.cgi.bin.get-into.herf....   bad\n",
       "3  mail.printakid.com/www.online.americanexpress....   bad\n",
       "4  thewhiskeydregs.com/wp-content/themes/widescre...   bad"
      ]
     },
     "execution_count": 4,
     "metadata": {},
     "output_type": "execute_result"
    }
   ],
   "source": [
    "phishing_data.head()"
   ]
  },
  {
   "cell_type": "code",
   "execution_count": 5,
   "metadata": {},
   "outputs": [
    {
     "data": {
      "text/html": [
       "<div>\n",
       "<style scoped>\n",
       "    .dataframe tbody tr th:only-of-type {\n",
       "        vertical-align: middle;\n",
       "    }\n",
       "\n",
       "    .dataframe tbody tr th {\n",
       "        vertical-align: top;\n",
       "    }\n",
       "\n",
       "    .dataframe thead th {\n",
       "        text-align: right;\n",
       "    }\n",
       "</style>\n",
       "<table border=\"1\" class=\"dataframe\">\n",
       "  <thead>\n",
       "    <tr style=\"text-align: right;\">\n",
       "      <th></th>\n",
       "      <th>URL</th>\n",
       "      <th>Label</th>\n",
       "    </tr>\n",
       "  </thead>\n",
       "  <tbody>\n",
       "    <tr>\n",
       "      <th>549841</th>\n",
       "      <td>cam.ac.uk</td>\n",
       "      <td>good</td>\n",
       "    </tr>\n",
       "    <tr>\n",
       "      <th>549842</th>\n",
       "      <td>over-blog-kiwi.com</td>\n",
       "      <td>good</td>\n",
       "    </tr>\n",
       "    <tr>\n",
       "      <th>549843</th>\n",
       "      <td>merriam-webster.com</td>\n",
       "      <td>good</td>\n",
       "    </tr>\n",
       "    <tr>\n",
       "      <th>549844</th>\n",
       "      <td>bp3.blogger.com</td>\n",
       "      <td>good</td>\n",
       "    </tr>\n",
       "    <tr>\n",
       "      <th>549845</th>\n",
       "      <td>kinja.com</td>\n",
       "      <td>good</td>\n",
       "    </tr>\n",
       "  </tbody>\n",
       "</table>\n",
       "</div>"
      ],
      "text/plain": [
       "                        URL Label\n",
       "549841            cam.ac.uk  good\n",
       "549842   over-blog-kiwi.com  good\n",
       "549843  merriam-webster.com  good\n",
       "549844      bp3.blogger.com  good\n",
       "549845            kinja.com  good"
      ]
     },
     "execution_count": 5,
     "metadata": {},
     "output_type": "execute_result"
    }
   ],
   "source": [
    "phishing_data.tail()"
   ]
  },
  {
   "cell_type": "markdown",
   "metadata": {},
   "source": [
    "### <font color=\"#f21170\">📊 Regrading Dataset</font>\n",
    "* Data is containg 5,49,346 unique entries.\n",
    "* Label column is prediction col which has 2 categories:\n",
    "1. Good - which means the urls is not containing malicious stuff and this site is not a Phishing Site. \n",
    "2. Bad - which means the urls contains malicious stuffs and this site is a Phishing Site.\n",
    "* There is no missing value in the dataset."
   ]
  },
  {
   "cell_type": "code",
   "execution_count": 6,
   "metadata": {},
   "outputs": [
    {
     "name": "stdout",
     "output_type": "stream",
     "text": [
      "<class 'pandas.core.frame.DataFrame'>\n",
      "RangeIndex: 549846 entries, 0 to 549845\n",
      "Data columns (total 2 columns):\n",
      " #   Column  Non-Null Count   Dtype \n",
      "---  ------  --------------   ----- \n",
      " 0   URL     549846 non-null  object\n",
      " 1   Label   549846 non-null  object\n",
      "dtypes: object(2)\n",
      "memory usage: 8.4+ MB\n"
     ]
    }
   ],
   "source": [
    "# To get the information about 'phishing_site_urls.csv':\n",
    "phishing_data.info()"
   ]
  },
  {
   "cell_type": "code",
   "execution_count": 7,
   "metadata": {},
   "outputs": [
    {
     "data": {
      "text/plain": [
       "URL      0\n",
       "Label    0\n",
       "dtype: int64"
      ]
     },
     "execution_count": 7,
     "metadata": {},
     "output_type": "execute_result"
    }
   ],
   "source": [
    "# To check if there is any missing values in dataset:\n",
    "phishing_data.isnull().sum()"
   ]
  },
  {
   "cell_type": "code",
   "execution_count": 8,
   "metadata": {},
   "outputs": [],
   "source": [
    "# Now we create a DataFrame of classes counts\n",
    "lbl_counts = pd.DataFrame(phishing_data.Label.value_counts())"
   ]
  },
  {
   "cell_type": "code",
   "execution_count": 9,
   "metadata": {},
   "outputs": [],
   "source": [
    "# Now let's visualize the target column by using seaborn:\n",
    "# use for high-level interface for drawing attractive and informative statistical graphics \n",
    "import seaborn as sns"
   ]
  },
  {
   "cell_type": "code",
   "execution_count": 10,
   "metadata": {},
   "outputs": [
    {
     "data": {
      "text/plain": [
       "<matplotlib.axes._subplots.AxesSubplot at 0x13af5423670>"
      ]
     },
     "execution_count": 10,
     "metadata": {},
     "output_type": "execute_result"
    },
    {
     "data": {
      "image/png": "[encoded data removed]",
      "text/plain": [
       "<Figure size 432x288 with 1 Axes>"
      ]
     },
     "metadata": {},
     "output_type": "display_data"
    }
   ],
   "source": [
    "sns.set_style('darkgrid')\n",
    "sns.barplot(lbl_counts.index, lbl_counts.Label)"
   ]
  },
  {
   "cell_type": "markdown",
   "metadata": {},
   "source": [
    "### <font color=\"#ff8882\"> Preprocessing</font>\n",
    "* So, now that we have the data, we have to vectorize our URLs. So, I'm using CountVectorizer to gather words using tokenizer, since there are words in urls that are more important than other words such as:\n",
    "    1. -> Virus\n",
    "    2. -> .exe\n",
    "    3. -> .dat\n",
    "* Let's convert the URLs into a vector form."
   ]
  },
  {
   "cell_type": "markdown",
   "metadata": {},
   "source": [
    "### <font color=\"#1597bb\">Regexp Tokenizer</font>\n",
    "* A tokenizer that splits a string using a regular expression, which matches either the tokens or the separators between tokens."
   ]
  },
  {
   "cell_type": "code",
   "execution_count": 11,
   "metadata": {},
   "outputs": [],
   "source": [
    "# We use Regexp tokenizers to split words from text:\n",
    "from nltk.tokenize import RegexpTokenizer"
   ]
  },
  {
   "cell_type": "code",
   "execution_count": 12,
   "metadata": {},
   "outputs": [],
   "source": [
    "# In this expression we are spliting only alphabets\n",
    "tokenizer = RegexpTokenizer(r'[A-Za-z]+')"
   ]
  },
  {
   "cell_type": "code",
   "execution_count": 13,
   "metadata": {},
   "outputs": [
    {
     "name": "stdout",
     "output_type": "stream",
     "text": [
      "nobell.it/70ffb52d079109dca5664cce6f317373782/login.SkyPe.com/en/cgi-bin/verification/login/70ffb52d079109dca5664cce6f317373/index.php?cmd=_profile-ach&outdated_page_tmpl=p/gen/failed-to-load&nav=0.5.1&login_access=1322408526\n"
     ]
    }
   ],
   "source": [
    "'''For example here you can see lots of numbers, symbols, dots, etc which\n",
    "is not important to your data so we remove this and get only strings of alphabets.''' \n",
    "print(phishing_data.URL[0]) # This 0 is first row"
   ]
  },
  {
   "cell_type": "code",
   "execution_count": 14,
   "metadata": {},
   "outputs": [
    {
     "name": "stdout",
     "output_type": "stream",
     "text": [
      "['nobell', 'it', 'ffb', 'd', 'dca', 'cce', 'f', 'login', 'SkyPe', 'com', 'en', 'cgi', 'bin', 'verification', 'login', 'ffb', 'd', 'dca', 'cce', 'f', 'index', 'php', 'cmd', 'profile', 'ach', 'outdated', 'page', 'tmpl', 'p', 'gen', 'failed', 'to', 'load', 'nav', 'login', 'access']\n"
     ]
    }
   ],
   "source": [
    "# This command will only pull all the alphabet strings present in URL:\n",
    "clean_text = tokenizer.tokenize(phishing_data.URL[0]) \n",
    "print(clean_text)"
   ]
  },
  {
   "cell_type": "markdown",
   "metadata": {},
   "source": [
    "### <font color=\"#ff1a75\">⏰ Time module</font>"
   ]
  },
  {
   "cell_type": "code",
   "execution_count": 15,
   "metadata": {},
   "outputs": [
    {
     "name": "stdout",
     "output_type": "stream",
     "text": [
      "Time required to tokenize text is: \n",
      "3.04 sec\n"
     ]
    }
   ],
   "source": [
    "# So now we transform all the URLs to clean_text:\n",
    "# To calculate time of execution we import time\n",
    "import time\n",
    "start = time.time()\n",
    "phishing_data['text_tokenized'] = phishing_data.URL.map(lambda text: tokenizer.tokenize(text))\n",
    "end = time.time()\n",
    "time_req = end - start\n",
    "formatted_time = \"{:.2f}\".format(time_req)\n",
    "print(f\"Time required to tokenize text is: \\n{formatted_time} sec\")"
   ]
  },
  {
   "cell_type": "code",
   "execution_count": 16,
   "metadata": {},
   "outputs": [
    {
     "data": {
      "text/html": [
       "<div>\n",
       "<style scoped>\n",
       "    .dataframe tbody tr th:only-of-type {\n",
       "        vertical-align: middle;\n",
       "    }\n",
       "\n",
       "    .dataframe tbody tr th {\n",
       "        vertical-align: top;\n",
       "    }\n",
       "\n",
       "    .dataframe thead th {\n",
       "        text-align: right;\n",
       "    }\n",
       "</style>\n",
       "<table border=\"1\" class=\"dataframe\">\n",
       "  <thead>\n",
       "    <tr style=\"text-align: right;\">\n",
       "      <th></th>\n",
       "      <th>URL</th>\n",
       "      <th>Label</th>\n",
       "      <th>text_tokenized</th>\n",
       "    </tr>\n",
       "  </thead>\n",
       "  <tbody>\n",
       "    <tr>\n",
       "      <th>301210</th>\n",
       "      <td>cduniverse.com/productinfo.asp?pid=7506614</td>\n",
       "      <td>good</td>\n",
       "      <td>[cduniverse, com, productinfo, asp, pid]</td>\n",
       "    </tr>\n",
       "    <tr>\n",
       "      <th>292666</th>\n",
       "      <td>blainejensenrv.com/travel-trailer-toyhauler/20...</td>\n",
       "      <td>good</td>\n",
       "      <td>[blainejensenrv, com, travel, trailer, toyhaul...</td>\n",
       "    </tr>\n",
       "    <tr>\n",
       "      <th>54080</th>\n",
       "      <td>www.aim-users.com/3bbs.htm</td>\n",
       "      <td>good</td>\n",
       "      <td>[www, aim, users, com, bbs, htm]</td>\n",
       "    </tr>\n",
       "    <tr>\n",
       "      <th>258791</th>\n",
       "      <td>wiki.answers.com/Q/What_is_the_Flintstones_nei...</td>\n",
       "      <td>good</td>\n",
       "      <td>[wiki, answers, com, Q, What, is, the, Flintst...</td>\n",
       "    </tr>\n",
       "    <tr>\n",
       "      <th>58596</th>\n",
       "      <td>www.dsi.unifi.it/neural</td>\n",
       "      <td>good</td>\n",
       "      <td>[www, dsi, unifi, it, neural]</td>\n",
       "    </tr>\n",
       "    <tr>\n",
       "      <th>493404</th>\n",
       "      <td>copy.com/s8w9tqqzVDaXIkcR/הריגתו של קצין ביטחו...</td>\n",
       "      <td>bad</td>\n",
       "      <td>[copy, com, s, w, tqqzVDaXIkcR, rar, download]</td>\n",
       "    </tr>\n",
       "    <tr>\n",
       "      <th>518590</th>\n",
       "      <td>21oq88trjd.drefcvest.in/s1eji0kjw1\\n</td>\n",
       "      <td>bad</td>\n",
       "      <td>[oq, trjd, drefcvest, in, s, eji, kjw, n]</td>\n",
       "    </tr>\n",
       "  </tbody>\n",
       "</table>\n",
       "</div>"
      ],
      "text/plain": [
       "                                                      URL Label  \\\n",
       "301210         cduniverse.com/productinfo.asp?pid=7506614  good   \n",
       "292666  blainejensenrv.com/travel-trailer-toyhauler/20...  good   \n",
       "54080                          www.aim-users.com/3bbs.htm  good   \n",
       "258791  wiki.answers.com/Q/What_is_the_Flintstones_nei...  good   \n",
       "58596                             www.dsi.unifi.it/neural  good   \n",
       "493404  copy.com/s8w9tqqzVDaXIkcR/הריגתו של קצין ביטחו...   bad   \n",
       "518590               21oq88trjd.drefcvest.in/s1eji0kjw1\\n   bad   \n",
       "\n",
       "                                           text_tokenized  \n",
       "301210           [cduniverse, com, productinfo, asp, pid]  \n",
       "292666  [blainejensenrv, com, travel, trailer, toyhaul...  \n",
       "54080                    [www, aim, users, com, bbs, htm]  \n",
       "258791  [wiki, answers, com, Q, What, is, the, Flintst...  \n",
       "58596                       [www, dsi, unifi, it, neural]  \n",
       "493404     [copy, com, s, w, tqqzVDaXIkcR, rar, download]  \n",
       "518590          [oq, trjd, drefcvest, in, s, eji, kjw, n]  "
      ]
     },
     "execution_count": 16,
     "metadata": {},
     "output_type": "execute_result"
    }
   ],
   "source": [
    "# Now let's check some sample results of URLs conversion to tokenize text:\n",
    "phishing_data.sample(7)"
   ]
  },
  {
   "cell_type": "markdown",
   "metadata": {},
   "source": [
    "### <font color=\"#f875aa\">Snowball Stemmer NLTK</font>\n",
    "* Snowball is a small string processing language designed for creating stemming algorithms for use in Information Retrieval."
   ]
  },
  {
   "cell_type": "code",
   "execution_count": 17,
   "metadata": {},
   "outputs": [],
   "source": [
    "# Now we use Snowball stemmer to get the root words out of tokenized text:\n",
    "from nltk.stem.snowball import SnowballStemmer"
   ]
  },
  {
   "cell_type": "code",
   "execution_count": 18,
   "metadata": {},
   "outputs": [
    {
     "name": "stdout",
     "output_type": "stream",
     "text": [
      "⏳ Time required for stemming all the tokenized text is: \n",
      "77.52 sec\n"
     ]
    }
   ],
   "source": [
    "# I am using english language for stemming purpose you can choose any language:\n",
    "sbs = SnowballStemmer(\"english\")\n",
    "\n",
    "# we will see the execution time to stem the tokenize text:\n",
    "start = time.time()\n",
    "phishing_data['text_stemmed'] = phishing_data['text_tokenized'].map(lambda text: [sbs.stem(word) for word in text])\n",
    "end = time.time()\n",
    "time_req = end - start\n",
    "formatted_time = \"{:.2f}\".format(time_req)\n",
    "print(f\"⏳ Time required for stemming all the tokenized text is: \\n{formatted_time} sec\")"
   ]
  },
  {
   "cell_type": "code",
   "execution_count": 19,
   "metadata": {},
   "outputs": [
    {
     "data": {
      "text/html": [
       "<div>\n",
       "<style scoped>\n",
       "    .dataframe tbody tr th:only-of-type {\n",
       "        vertical-align: middle;\n",
       "    }\n",
       "\n",
       "    .dataframe tbody tr th {\n",
       "        vertical-align: top;\n",
       "    }\n",
       "\n",
       "    .dataframe thead th {\n",
       "        text-align: right;\n",
       "    }\n",
       "</style>\n",
       "<table border=\"1\" class=\"dataframe\">\n",
       "  <thead>\n",
       "    <tr style=\"text-align: right;\">\n",
       "      <th></th>\n",
       "      <th>URL</th>\n",
       "      <th>Label</th>\n",
       "      <th>text_tokenized</th>\n",
       "      <th>text_stemmed</th>\n",
       "    </tr>\n",
       "  </thead>\n",
       "  <tbody>\n",
       "    <tr>\n",
       "      <th>118837</th>\n",
       "      <td>sphinxservices.com.au/mnm/index.htm</td>\n",
       "      <td>bad</td>\n",
       "      <td>[sphinxservices, com, au, mnm, index, htm]</td>\n",
       "      <td>[sphinxservic, com, au, mnm, index, htm]</td>\n",
       "    </tr>\n",
       "    <tr>\n",
       "      <th>163367</th>\n",
       "      <td>dating.poptower.com/delroy-lindo-dating.htm</td>\n",
       "      <td>good</td>\n",
       "      <td>[dating, poptower, com, delroy, lindo, dating,...</td>\n",
       "      <td>[date, poptow, com, delroy, lindo, date, htm]</td>\n",
       "    </tr>\n",
       "    <tr>\n",
       "      <th>13586</th>\n",
       "      <td>serviceinformation.pakfreewebs.com/verifier/et...</td>\n",
       "      <td>bad</td>\n",
       "      <td>[serviceinformation, pakfreewebs, com, verifie...</td>\n",
       "      <td>[serviceinform, pakfreeweb, com, verifi, etap,...</td>\n",
       "    </tr>\n",
       "    <tr>\n",
       "      <th>286559</th>\n",
       "      <td>azchords.com/p/planetsmashers-tabs-12218.html</td>\n",
       "      <td>good</td>\n",
       "      <td>[azchords, com, p, planetsmashers, tabs, html]</td>\n",
       "      <td>[azchord, com, p, planetsmash, tab, html]</td>\n",
       "    </tr>\n",
       "    <tr>\n",
       "      <th>23051</th>\n",
       "      <td>alltomcasinospel.se/images/ind.html</td>\n",
       "      <td>bad</td>\n",
       "      <td>[alltomcasinospel, se, images, ind, html]</td>\n",
       "      <td>[alltomcasinospel, se, imag, ind, html]</td>\n",
       "    </tr>\n",
       "    <tr>\n",
       "      <th>495042</th>\n",
       "      <td>85.227.8.132/</td>\n",
       "      <td>bad</td>\n",
       "      <td>[]</td>\n",
       "      <td>[]</td>\n",
       "    </tr>\n",
       "    <tr>\n",
       "      <th>265559</th>\n",
       "      <td>3dtotal.com/tutorial/maya/car_modeling_ford_gt...</td>\n",
       "      <td>good</td>\n",
       "      <td>[dtotal, com, tutorial, maya, car, modeling, f...</td>\n",
       "      <td>[dtotal, com, tutori, maya, car, model, ford, ...</td>\n",
       "    </tr>\n",
       "  </tbody>\n",
       "</table>\n",
       "</div>"
      ],
      "text/plain": [
       "                                                      URL Label  \\\n",
       "118837                sphinxservices.com.au/mnm/index.htm   bad   \n",
       "163367        dating.poptower.com/delroy-lindo-dating.htm  good   \n",
       "13586   serviceinformation.pakfreewebs.com/verifier/et...   bad   \n",
       "286559      azchords.com/p/planetsmashers-tabs-12218.html  good   \n",
       "23051                 alltomcasinospel.se/images/ind.html   bad   \n",
       "495042                                      85.227.8.132/   bad   \n",
       "265559  3dtotal.com/tutorial/maya/car_modeling_ford_gt...  good   \n",
       "\n",
       "                                           text_tokenized  \\\n",
       "118837         [sphinxservices, com, au, mnm, index, htm]   \n",
       "163367  [dating, poptower, com, delroy, lindo, dating,...   \n",
       "13586   [serviceinformation, pakfreewebs, com, verifie...   \n",
       "286559     [azchords, com, p, planetsmashers, tabs, html]   \n",
       "23051           [alltomcasinospel, se, images, ind, html]   \n",
       "495042                                                 []   \n",
       "265559  [dtotal, com, tutorial, maya, car, modeling, f...   \n",
       "\n",
       "                                             text_stemmed  \n",
       "118837           [sphinxservic, com, au, mnm, index, htm]  \n",
       "163367      [date, poptow, com, delroy, lindo, date, htm]  \n",
       "13586   [serviceinform, pakfreeweb, com, verifi, etap,...  \n",
       "286559          [azchord, com, p, planetsmash, tab, html]  \n",
       "23051             [alltomcasinospel, se, imag, ind, html]  \n",
       "495042                                                 []  \n",
       "265559  [dtotal, com, tutori, maya, car, model, ford, ...  "
      ]
     },
     "execution_count": 19,
     "metadata": {},
     "output_type": "execute_result"
    }
   ],
   "source": [
    "# Now let's see the sample stemmed text:\n",
    "phishing_data.sample(7)"
   ]
  },
  {
   "cell_type": "code",
   "execution_count": 20,
   "metadata": {},
   "outputs": [
    {
     "name": "stdout",
     "output_type": "stream",
     "text": [
      "Time required for joining text to sentence is: \n",
      "0.38 sec\n"
     ]
    }
   ],
   "source": [
    "# So, now we join the stemmed words together as a sentence:\n",
    "start = time.time()\n",
    "phishing_data['text_to_sent'] = phishing_data['text_stemmed'].map(lambda text: ' '.join(text))\n",
    "end = time.time()\n",
    "time_req = end - start\n",
    "formatted_time = \"{:.2f}\".format(time_req)\n",
    "print(f\"Time required for joining text to sentence is: \\n{formatted_time} sec\")"
   ]
  },
  {
   "cell_type": "code",
   "execution_count": 21,
   "metadata": {},
   "outputs": [
    {
     "data": {
      "text/html": [
       "<div>\n",
       "<style scoped>\n",
       "    .dataframe tbody tr th:only-of-type {\n",
       "        vertical-align: middle;\n",
       "    }\n",
       "\n",
       "    .dataframe tbody tr th {\n",
       "        vertical-align: top;\n",
       "    }\n",
       "\n",
       "    .dataframe thead th {\n",
       "        text-align: right;\n",
       "    }\n",
       "</style>\n",
       "<table border=\"1\" class=\"dataframe\">\n",
       "  <thead>\n",
       "    <tr style=\"text-align: right;\">\n",
       "      <th></th>\n",
       "      <th>URL</th>\n",
       "      <th>Label</th>\n",
       "      <th>text_tokenized</th>\n",
       "      <th>text_stemmed</th>\n",
       "      <th>text_to_sent</th>\n",
       "    </tr>\n",
       "  </thead>\n",
       "  <tbody>\n",
       "    <tr>\n",
       "      <th>307937</th>\n",
       "      <td>collingwoodlifestyle.com/</td>\n",
       "      <td>good</td>\n",
       "      <td>[collingwoodlifestyle, com]</td>\n",
       "      <td>[collingwoodlifestyl, com]</td>\n",
       "      <td>collingwoodlifestyl com</td>\n",
       "    </tr>\n",
       "    <tr>\n",
       "      <th>84146</th>\n",
       "      <td>www.mywot.com/en/download/ie</td>\n",
       "      <td>good</td>\n",
       "      <td>[www, mywot, com, en, download, ie]</td>\n",
       "      <td>[www, mywot, com, en, download, ie]</td>\n",
       "      <td>www mywot com en download ie</td>\n",
       "    </tr>\n",
       "    <tr>\n",
       "      <th>218349</th>\n",
       "      <td>music.yahoo.com/norman-brown/</td>\n",
       "      <td>good</td>\n",
       "      <td>[music, yahoo, com, norman, brown]</td>\n",
       "      <td>[music, yahoo, com, norman, brown]</td>\n",
       "      <td>music yahoo com norman brown</td>\n",
       "    </tr>\n",
       "    <tr>\n",
       "      <th>525266</th>\n",
       "      <td>142.47.213.123/Ares13.zip</td>\n",
       "      <td>bad</td>\n",
       "      <td>[Ares, zip]</td>\n",
       "      <td>[are, zip]</td>\n",
       "      <td>are zip</td>\n",
       "    </tr>\n",
       "    <tr>\n",
       "      <th>368778</th>\n",
       "      <td>kittykatrescue.com/</td>\n",
       "      <td>good</td>\n",
       "      <td>[kittykatrescue, com]</td>\n",
       "      <td>[kittykatrescu, com]</td>\n",
       "      <td>kittykatrescu com</td>\n",
       "    </tr>\n",
       "    <tr>\n",
       "      <th>505915</th>\n",
       "      <td>parroquiansg.org/8g74crec/</td>\n",
       "      <td>bad</td>\n",
       "      <td>[parroquiansg, org, g, crec]</td>\n",
       "      <td>[parroquiansg, org, g, crec]</td>\n",
       "      <td>parroquiansg org g crec</td>\n",
       "    </tr>\n",
       "    <tr>\n",
       "      <th>152997</th>\n",
       "      <td>braveastronaut.blogspot.com/</td>\n",
       "      <td>good</td>\n",
       "      <td>[braveastronaut, blogspot, com]</td>\n",
       "      <td>[braveastronaut, blogspot, com]</td>\n",
       "      <td>braveastronaut blogspot com</td>\n",
       "    </tr>\n",
       "    <tr>\n",
       "      <th>180905</th>\n",
       "      <td>en.wikipedia.org/wiki/Strictly_Come_Dancing_(s...</td>\n",
       "      <td>good</td>\n",
       "      <td>[en, wikipedia, org, wiki, Strictly, Come, Dan...</td>\n",
       "      <td>[en, wikipedia, org, wiki, strict, come, danc,...</td>\n",
       "      <td>en wikipedia org wiki strict come danc seri</td>\n",
       "    </tr>\n",
       "    <tr>\n",
       "      <th>105974</th>\n",
       "      <td>mediasmall.com/applicationload/index.html</td>\n",
       "      <td>bad</td>\n",
       "      <td>[mediasmall, com, applicationload, index, html]</td>\n",
       "      <td>[mediasmal, com, applicationload, index, html]</td>\n",
       "      <td>mediasmal com applicationload index html</td>\n",
       "    </tr>\n",
       "    <tr>\n",
       "      <th>284016</th>\n",
       "      <td>artnet.com/artists/charles+ragland-bunnell/bio...</td>\n",
       "      <td>good</td>\n",
       "      <td>[artnet, com, artists, charles, ragland, bunne...</td>\n",
       "      <td>[artnet, com, artist, charl, ragland, bunnel, ...</td>\n",
       "      <td>artnet com artist charl ragland bunnel biograp...</td>\n",
       "    </tr>\n",
       "  </tbody>\n",
       "</table>\n",
       "</div>"
      ],
      "text/plain": [
       "                                                      URL Label  \\\n",
       "307937                          collingwoodlifestyle.com/  good   \n",
       "84146                        www.mywot.com/en/download/ie  good   \n",
       "218349                      music.yahoo.com/norman-brown/  good   \n",
       "525266                          142.47.213.123/Ares13.zip   bad   \n",
       "368778                                kittykatrescue.com/  good   \n",
       "505915                         parroquiansg.org/8g74crec/   bad   \n",
       "152997                       braveastronaut.blogspot.com/  good   \n",
       "180905  en.wikipedia.org/wiki/Strictly_Come_Dancing_(s...  good   \n",
       "105974          mediasmall.com/applicationload/index.html   bad   \n",
       "284016  artnet.com/artists/charles+ragland-bunnell/bio...  good   \n",
       "\n",
       "                                           text_tokenized  \\\n",
       "307937                        [collingwoodlifestyle, com]   \n",
       "84146                 [www, mywot, com, en, download, ie]   \n",
       "218349                 [music, yahoo, com, norman, brown]   \n",
       "525266                                        [Ares, zip]   \n",
       "368778                              [kittykatrescue, com]   \n",
       "505915                       [parroquiansg, org, g, crec]   \n",
       "152997                    [braveastronaut, blogspot, com]   \n",
       "180905  [en, wikipedia, org, wiki, Strictly, Come, Dan...   \n",
       "105974    [mediasmall, com, applicationload, index, html]   \n",
       "284016  [artnet, com, artists, charles, ragland, bunne...   \n",
       "\n",
       "                                             text_stemmed  \\\n",
       "307937                         [collingwoodlifestyl, com]   \n",
       "84146                 [www, mywot, com, en, download, ie]   \n",
       "218349                 [music, yahoo, com, norman, brown]   \n",
       "525266                                         [are, zip]   \n",
       "368778                               [kittykatrescu, com]   \n",
       "505915                       [parroquiansg, org, g, crec]   \n",
       "152997                    [braveastronaut, blogspot, com]   \n",
       "180905  [en, wikipedia, org, wiki, strict, come, danc,...   \n",
       "105974     [mediasmal, com, applicationload, index, html]   \n",
       "284016  [artnet, com, artist, charl, ragland, bunnel, ...   \n",
       "\n",
       "                                             text_to_sent  \n",
       "307937                            collingwoodlifestyl com  \n",
       "84146                        www mywot com en download ie  \n",
       "218349                       music yahoo com norman brown  \n",
       "525266                                            are zip  \n",
       "368778                                  kittykatrescu com  \n",
       "505915                            parroquiansg org g crec  \n",
       "152997                        braveastronaut blogspot com  \n",
       "180905        en wikipedia org wiki strict come danc seri  \n",
       "105974           mediasmal com applicationload index html  \n",
       "284016  artnet com artist charl ragland bunnel biograp...  "
      ]
     },
     "execution_count": 21,
     "metadata": {},
     "output_type": "execute_result"
    }
   ],
   "source": [
    "# let's see some sample results of joined text to sentences:\n",
    "phishing_data.sample(10)"
   ]
  },
  {
   "cell_type": "markdown",
   "metadata": {},
   "source": [
    "### <font color=\"#845ec2\">Visualization Part</font>\n",
    "##### <font color=\"#3aa6c5\">It is very important to know your data and visualize it to understand it better.</font>\n",
    "    1.Let's visualize some important key words using Wordcloud."
   ]
  },
  {
   "cell_type": "code",
   "execution_count": 22,
   "metadata": {},
   "outputs": [],
   "source": [
    "# First we slice the classes as:\n",
    "phishing_sites = phishing_data[phishing_data.Label == 'bad']\n",
    "not_phishing_sites = phishing_data[phishing_data.Label == 'good']"
   ]
  },
  {
   "cell_type": "code",
   "execution_count": 23,
   "metadata": {},
   "outputs": [
    {
     "data": {
      "text/html": [
       "<div>\n",
       "<style scoped>\n",
       "    .dataframe tbody tr th:only-of-type {\n",
       "        vertical-align: middle;\n",
       "    }\n",
       "\n",
       "    .dataframe tbody tr th {\n",
       "        vertical-align: top;\n",
       "    }\n",
       "\n",
       "    .dataframe thead th {\n",
       "        text-align: right;\n",
       "    }\n",
       "</style>\n",
       "<table border=\"1\" class=\"dataframe\">\n",
       "  <thead>\n",
       "    <tr style=\"text-align: right;\">\n",
       "      <th></th>\n",
       "      <th>URL</th>\n",
       "      <th>Label</th>\n",
       "      <th>text_tokenized</th>\n",
       "      <th>text_stemmed</th>\n",
       "      <th>text_to_sent</th>\n",
       "    </tr>\n",
       "  </thead>\n",
       "  <tbody>\n",
       "    <tr>\n",
       "      <th>0</th>\n",
       "      <td>nobell.it/70ffb52d079109dca5664cce6f317373782/...</td>\n",
       "      <td>bad</td>\n",
       "      <td>[nobell, it, ffb, d, dca, cce, f, login, SkyPe...</td>\n",
       "      <td>[nobel, it, ffb, d, dca, cce, f, login, skype,...</td>\n",
       "      <td>nobel it ffb d dca cce f login skype com en cg...</td>\n",
       "    </tr>\n",
       "    <tr>\n",
       "      <th>1</th>\n",
       "      <td>www.dghjdgf.com/paypal.co.uk/cycgi-bin/webscrc...</td>\n",
       "      <td>bad</td>\n",
       "      <td>[www, dghjdgf, com, paypal, co, uk, cycgi, bin...</td>\n",
       "      <td>[www, dghjdgf, com, paypal, co, uk, cycgi, bin...</td>\n",
       "      <td>www dghjdgf com paypal co uk cycgi bin webscrc...</td>\n",
       "    </tr>\n",
       "    <tr>\n",
       "      <th>2</th>\n",
       "      <td>serviciosbys.com/paypal.cgi.bin.get-into.herf....</td>\n",
       "      <td>bad</td>\n",
       "      <td>[serviciosbys, com, paypal, cgi, bin, get, int...</td>\n",
       "      <td>[serviciosbi, com, paypal, cgi, bin, get, into...</td>\n",
       "      <td>serviciosbi com paypal cgi bin get into herf s...</td>\n",
       "    </tr>\n",
       "    <tr>\n",
       "      <th>3</th>\n",
       "      <td>mail.printakid.com/www.online.americanexpress....</td>\n",
       "      <td>bad</td>\n",
       "      <td>[mail, printakid, com, www, online, americanex...</td>\n",
       "      <td>[mail, printakid, com, www, onlin, americanexp...</td>\n",
       "      <td>mail printakid com www onlin americanexpress c...</td>\n",
       "    </tr>\n",
       "    <tr>\n",
       "      <th>4</th>\n",
       "      <td>thewhiskeydregs.com/wp-content/themes/widescre...</td>\n",
       "      <td>bad</td>\n",
       "      <td>[thewhiskeydregs, com, wp, content, themes, wi...</td>\n",
       "      <td>[thewhiskeydreg, com, wp, content, theme, wide...</td>\n",
       "      <td>thewhiskeydreg com wp content theme widescreen...</td>\n",
       "    </tr>\n",
       "  </tbody>\n",
       "</table>\n",
       "</div>"
      ],
      "text/plain": [
       "                                                 URL Label  \\\n",
       "0  nobell.it/70ffb52d079109dca5664cce6f317373782/...   bad   \n",
       "1  www.dghjdgf.com/paypal.co.uk/cycgi-bin/webscrc...   bad   \n",
       "2  serviciosbys.com/paypal.cgi.bin.get-into.herf....   bad   \n",
       "3  mail.printakid.com/www.online.americanexpress....   bad   \n",
       "4  thewhiskeydregs.com/wp-content/themes/widescre...   bad   \n",
       "\n",
       "                                      text_tokenized  \\\n",
       "0  [nobell, it, ffb, d, dca, cce, f, login, SkyPe...   \n",
       "1  [www, dghjdgf, com, paypal, co, uk, cycgi, bin...   \n",
       "2  [serviciosbys, com, paypal, cgi, bin, get, int...   \n",
       "3  [mail, printakid, com, www, online, americanex...   \n",
       "4  [thewhiskeydregs, com, wp, content, themes, wi...   \n",
       "\n",
       "                                        text_stemmed  \\\n",
       "0  [nobel, it, ffb, d, dca, cce, f, login, skype,...   \n",
       "1  [www, dghjdgf, com, paypal, co, uk, cycgi, bin...   \n",
       "2  [serviciosbi, com, paypal, cgi, bin, get, into...   \n",
       "3  [mail, printakid, com, www, onlin, americanexp...   \n",
       "4  [thewhiskeydreg, com, wp, content, theme, wide...   \n",
       "\n",
       "                                        text_to_sent  \n",
       "0  nobel it ffb d dca cce f login skype com en cg...  \n",
       "1  www dghjdgf com paypal co uk cycgi bin webscrc...  \n",
       "2  serviciosbi com paypal cgi bin get into herf s...  \n",
       "3  mail printakid com www onlin americanexpress c...  \n",
       "4  thewhiskeydreg com wp content theme widescreen...  "
      ]
     },
     "execution_count": 23,
     "metadata": {},
     "output_type": "execute_result"
    }
   ],
   "source": [
    "# Using head() function to see the top 5 URLs of phishing sites:\n",
    "phishing_sites.head()"
   ]
  },
  {
   "cell_type": "code",
   "execution_count": 24,
   "metadata": {},
   "outputs": [
    {
     "data": {
      "text/html": [
       "<div>\n",
       "<style scoped>\n",
       "    .dataframe tbody tr th:only-of-type {\n",
       "        vertical-align: middle;\n",
       "    }\n",
       "\n",
       "    .dataframe tbody tr th {\n",
       "        vertical-align: top;\n",
       "    }\n",
       "\n",
       "    .dataframe thead th {\n",
       "        text-align: right;\n",
       "    }\n",
       "</style>\n",
       "<table border=\"1\" class=\"dataframe\">\n",
       "  <thead>\n",
       "    <tr style=\"text-align: right;\">\n",
       "      <th></th>\n",
       "      <th>URL</th>\n",
       "      <th>Label</th>\n",
       "      <th>text_tokenized</th>\n",
       "      <th>text_stemmed</th>\n",
       "      <th>text_to_sent</th>\n",
       "    </tr>\n",
       "  </thead>\n",
       "  <tbody>\n",
       "    <tr>\n",
       "      <th>18231</th>\n",
       "      <td>esxcc.com/js/index.htm?us.battle.net/noghn/en/...</td>\n",
       "      <td>good</td>\n",
       "      <td>[esxcc, com, js, index, htm, us, battle, net, ...</td>\n",
       "      <td>[esxcc, com, js, index, htm, us, battl, net, n...</td>\n",
       "      <td>esxcc com js index htm us battl net noghn en r...</td>\n",
       "    </tr>\n",
       "    <tr>\n",
       "      <th>18232</th>\n",
       "      <td>www\u000eeira¯&amp;nvinip¿ncH¯wVö%ÆåyDaHðû/ÏyEùu\u0003Ë\\nÓ\u00176...</td>\n",
       "      <td>good</td>\n",
       "      <td>[www, eira, nvinip, ncH, wV, yDaH, yE, u, rT, ...</td>\n",
       "      <td>[www, eira, nvinip, nch, wv, ydah, ye, u, rt, ...</td>\n",
       "      <td>www eira nvinip nch wv ydah ye u rt u g m i xz...</td>\n",
       "    </tr>\n",
       "    <tr>\n",
       "      <th>18233</th>\n",
       "      <td>'www.institutocgr.coo/web/media/syqvem/dk-\u000fóij...</td>\n",
       "      <td>good</td>\n",
       "      <td>[www, institutocgr, coo, web, media, syqvem, d...</td>\n",
       "      <td>[www, institutocgr, coo, web, media, syqvem, d...</td>\n",
       "      <td>www institutocgr coo web media syqvem dk ij r ...</td>\n",
       "    </tr>\n",
       "    <tr>\n",
       "      <th>18234</th>\n",
       "      <td>\u0011\u0018Yìê\f",
       "koãÕ»Î§DéÎ\u0002l½ñ¡ââqtò¸/à; Í</td>\n",
       "      <td>good</td>\n",
       "      <td>[Y, ko, D, l, qt]</td>\n",
       "      <td>[y, ko, d, l, qt]</td>\n",
       "      <td>y ko d l qt</td>\n",
       "    </tr>\n",
       "    <tr>\n",
       "      <th>18236</th>\n",
       "      <td>ruta89fm.com/images/AS@Vies/1i75cf7b16vc&lt;F\u0015d16...</td>\n",
       "      <td>good</td>\n",
       "      <td>[ruta, fm, com, images, AS, Vies, i, cf, b, vc...</td>\n",
       "      <td>[ruta, fm, com, imag, as, vie, i, cf, b, vc, f...</td>\n",
       "      <td>ruta fm com imag as vie i cf b vc f d b g sd v...</td>\n",
       "    </tr>\n",
       "  </tbody>\n",
       "</table>\n",
       "</div>"
      ],
      "text/plain": [
       "                                                     URL Label  \\\n",
       "18231  esxcc.com/js/index.htm?us.battle.net/noghn/en/...  good   \n",
       "18232  www\u000eeira¯&nvinip¿ncH¯wVö%ÆåyDaHðû/ÏyEùu\u0003Ë\\nÓ\u00176...  good   \n",
       "18233  'www.institutocgr.coo/web/media/syqvem/dk-\u000fóij...  good   \n",
       "18234                  \u0011\u0018Yìê\n",
       "koãÕ»Î§DéÎ\u0002l½ñ¡ââqtò¸/à; Í  good   \n",
       "18236  ruta89fm.com/images/AS@Vies/1i75cf7b16vc<F\u0015d16...  good   \n",
       "\n",
       "                                          text_tokenized  \\\n",
       "18231  [esxcc, com, js, index, htm, us, battle, net, ...   \n",
       "18232  [www, eira, nvinip, ncH, wV, yDaH, yE, u, rT, ...   \n",
       "18233  [www, institutocgr, coo, web, media, syqvem, d...   \n",
       "18234                                  [Y, ko, D, l, qt]   \n",
       "18236  [ruta, fm, com, images, AS, Vies, i, cf, b, vc...   \n",
       "\n",
       "                                            text_stemmed  \\\n",
       "18231  [esxcc, com, js, index, htm, us, battl, net, n...   \n",
       "18232  [www, eira, nvinip, nch, wv, ydah, ye, u, rt, ...   \n",
       "18233  [www, institutocgr, coo, web, media, syqvem, d...   \n",
       "18234                                  [y, ko, d, l, qt]   \n",
       "18236  [ruta, fm, com, imag, as, vie, i, cf, b, vc, f...   \n",
       "\n",
       "                                            text_to_sent  \n",
       "18231  esxcc com js index htm us battl net noghn en r...  \n",
       "18232  www eira nvinip nch wv ydah ye u rt u g m i xz...  \n",
       "18233  www institutocgr coo web media syqvem dk ij r ...  \n",
       "18234                                        y ko d l qt  \n",
       "18236  ruta fm com imag as vie i cf b vc f d b g sd v...  "
      ]
     },
     "execution_count": 24,
     "metadata": {},
     "output_type": "execute_result"
    }
   ],
   "source": [
    "# Using head() function to see the top 5 URLs of Not phishing sites:\n",
    "not_phishing_sites.head()"
   ]
  },
  {
   "cell_type": "code",
   "execution_count": 25,
   "metadata": {},
   "outputs": [],
   "source": [
    "import matplotlib.pyplot as plt\n",
    "import numpy as np\n",
    "from wordcloud import WordCloud\n",
    "from wordcloud import STOPWORDS\n",
    "from PIL import Image"
   ]
  },
  {
   "cell_type": "code",
   "execution_count": 26,
   "metadata": {},
   "outputs": [],
   "source": [
    "# Now let's create a function to visualize the important words from URLs:\n",
    "\n",
    "def my_wordcloud(text, mask=None, max_words=500, max_font_size=70, figure_size=(8.0, 10.0),\n",
    "                title=None, title_size=70, image_color=False):\n",
    "    \n",
    "    stopwords = set(STOPWORDS)\n",
    "    my_stopwords = {'com', 'http'}\n",
    "    stopwords = stopwords.union(my_stopwords)\n",
    "    \n",
    "    wordcloud = WordCloud(background_color='#fff', \n",
    "                         stopwords = stopwords,\n",
    "                         max_words = max_words,\n",
    "                         random_state = 42,                            \n",
    "                         mask = mask)\n",
    "    \n",
    "    wordcloud.generate(text)\n",
    "    \n",
    "    plt.figure(figsize=figure_size)\n",
    "    \n",
    "    if image_color:\n",
    "        image_color = ImageColorGenerator(mask);\n",
    "        plt.imshow(wordcloud.recolor(color_func=image_colors),\n",
    "                  interpolation='bilinear');\n",
    "        \n",
    "        plt.title(title,\n",
    "                 fontdict={'size': title_size,\n",
    "                          'verticalalignment': 'bottom'})\n",
    "        \n",
    "    else:\n",
    "        plt.imshow(wordcloud);\n",
    "        plt.title(title,\n",
    "                 fontdict={'size': title_size,\n",
    "                          'color': '#ff3333',\n",
    "                          'verticalalignment': 'bottom'})\n",
    "\n",
    "    plt.axis('off');\n",
    "    plt.tight_layout()"
   ]
  },
  {
   "cell_type": "code",
   "execution_count": 27,
   "metadata": {},
   "outputs": [],
   "source": [
    "my_data = not_phishing_sites.text_to_sent\n",
    "my_data.reset_index(drop=True, inplace=True)"
   ]
  },
  {
   "cell_type": "code",
   "execution_count": 28,
   "metadata": {},
   "outputs": [
    {
     "data": {
      "image/png": "[encoded data removed]",
      "text/plain": [
       "<Figure size 576x720 with 1 Axes>"
      ]
     },
     "metadata": {},
     "output_type": "display_data"
    }
   ],
   "source": [
    "not_phishing_common_text = str(my_data)\n",
    "common_mask = np.array(Image.open('idea.png'))\n",
    "my_wordcloud(not_phishing_common_text,\n",
    "               common_mask,\n",
    "               max_words=400, \n",
    "               max_font_size=50, \n",
    "               title = 'The Most common words use in not phishing URLs:',\n",
    "               title_size=20)"
   ]
  },
  {
   "cell_type": "code",
   "execution_count": 29,
   "metadata": {},
   "outputs": [],
   "source": [
    "# for phishing sites common words are:\n",
    "my_data = phishing_sites.text_to_sent\n",
    "my_data.reset_index(drop=True, inplace=True)"
   ]
  },
  {
   "cell_type": "code",
   "execution_count": 30,
   "metadata": {},
   "outputs": [
    {
     "data": {
      "image/png": "[encoded data removed]",
      "text/plain": [
       "<Figure size 576x720 with 1 Axes>"
      ]
     },
     "metadata": {},
     "output_type": "display_data"
    }
   ],
   "source": [
    "# let's create a wordcloud for phishing sites:\n",
    "phishing_common_words = str(my_data)\n",
    "common_mask = np.array(Image.open('target.png'))\n",
    "my_wordcloud(phishing_common_words, \n",
    "             common_mask,\n",
    "             max_words=500, \n",
    "             max_font_size=20, \n",
    "             title='The Most common words use in phishing URLs:', \n",
    "             title_size=20)"
   ]
  },
  {
   "cell_type": "markdown",
   "metadata": {},
   "source": [
    "### <font color=\"#28b5b5\">To visualize internal links as it will show us all redirect links.</font>\n",
    "#### <font color=\"#ff8882\">To Scrape any website</font>\n",
    "   - Firtly, we nedd to setup the Chrome webdriver so we can scrape dynamic webpages.\n",
    "   \n",
    "#### <font color=\"#f0c929\">The Chrome webdriver</font>\n",
    "   - WebDriver tool use for automated testing of webapps across many browsers. It provides capabilities for navigating to web pages, user input and so on."
   ]
  },
  {
   "cell_type": "code",
   "execution_count": 31,
   "metadata": {},
   "outputs": [
    {
     "name": "stdout",
     "output_type": "stream",
     "text": [
      "Requirement already satisfied: selenium in c:\\users\\ashhar\\anaconda3\\lib\\site-packages (3.141.0)\n"
     ]
    },
    {
     "name": "stderr",
     "output_type": "stream",
     "text": [
      "WARNING: Value for scheme.headers does not match. Please report this to <https://github.com/pypa/pip/issues/9617>\n",
      "distutils: c:\\users\\ashhar\\anaconda3\\Include\\UNKNOWN\n",
      "sysconfig: c:\\users\\ashhar\\anaconda3\\Include\n",
      "WARNING: Additional context:\n",
      "user = False\n",
      "home = None\n",
      "root = None\n",
      "prefix = None\n",
      "WARNING: Value for scheme.headers does not match. Please report this to <https://github.com/pypa/pip/issues/9617>\n",
      "distutils: c:\\users\\ashhar\\anaconda3\\Include\\UNKNOWN\n",
      "sysconfig: c:\\users\\ashhar\\anaconda3\\Include\n",
      "WARNING: Additional context:\n",
      "user = False\n",
      "home = None\n",
      "root = None\n",
      "prefix = None\n"
     ]
    },
    {
     "name": "stdout",
     "output_type": "stream",
     "text": [
      "Requirement already satisfied: urllib3 in c:\\users\\ashhar\\anaconda3\\lib\\site-packages (from selenium) (1.25.9)\n"
     ]
    },
    {
     "name": "stderr",
     "output_type": "stream",
     "text": [
      "WARNING: Value for scheme.headers does not match. Please report this to <https://github.com/pypa/pip/issues/9617>\n",
      "distutils: c:\\users\\ashhar\\anaconda3\\Include\\UNKNOWN\n",
      "sysconfig: c:\\users\\ashhar\\anaconda3\\Include\n",
      "WARNING: Additional context:\n",
      "user = False\n",
      "home = None\n",
      "root = None\n",
      "prefix = None\n",
      "WARNING: Value for scheme.headers does not match. Please report this to <https://github.com/pypa/pip/issues/9617>\n",
      "distutils: c:\\users\\ashhar\\anaconda3\\Include\\UNKNOWN\n",
      "sysconfig: c:\\users\\ashhar\\anaconda3\\Include\n",
      "WARNING: Additional context:\n",
      "user = False\n",
      "home = None\n",
      "root = None\n",
      "prefix = None\n",
      "\n",
      "\n"
     ]
    },
    {
     "name": "stdout",
     "output_type": "stream",
     "text": [
      "Requirement already satisfied: webdriver-manager in c:\\users\\ashhar\\anaconda3\\lib\\site-packages (3.4.0)\n",
      "Requirement already satisfied: crayons in c:\\users\\ashhar\\anaconda3\\lib\\site-packages (from webdriver-manager) (0.4.0)\n",
      "Requirement already satisfied: configparser in c:\\users\\ashhar\\anaconda3\\lib\\site-packages (from webdriver-manager) (5.0.2)\n",
      "Requirement already satisfied: requests in c:\\users\\ashhar\\anaconda3\\lib\\site-packages (from webdriver-manager) (2.24.0)\n",
      "Requirement already satisfied: colorama in c:\\users\\ashhar\\anaconda3\\lib\\site-packages (from crayons->webdriver-manager) (0.4.3)\n",
      "Requirement already satisfied: urllib3!=1.25.0,!=1.25.1,<1.26,>=1.21.1 in c:\\users\\ashhar\\anaconda3\\lib\\site-packages (from requests->webdriver-manager) (1.25.9)\n",
      "Requirement already satisfied: idna<3,>=2.5 in c:\\users\\ashhar\\anaconda3\\lib\\site-packages (from requests->webdriver-manager) (2.10)\n",
      "Requirement already satisfied: chardet<4,>=3.0.2 in c:\\users\\ashhar\\anaconda3\\lib\\site-packages (from requests->webdriver-manager) (3.0.4)\n",
      "Requirement already satisfied: certifi>=2017.4.17 in c:\\users\\ashhar\\anaconda3\\lib\\site-packages (from requests->webdriver-manager) (2020.6.20)\n"
     ]
    },
    {
     "name": "stderr",
     "output_type": "stream",
     "text": [
      "====== WebDriver manager ======\n",
      "Current google-chrome version is 90.0.4430\n",
      "Get LATEST driver version for 90.0.4430\n",
      "Driver [C:\\Users\\Ashhar\\.wdm\\drivers\\chromedriver\\win32\\90.0.4430.24\\chromedriver.exe] found in cache\n"
     ]
    }
   ],
   "source": [
    "# we need to install selenium to use webdriver:\n",
    "! pip install selenium\n",
    "! pip install webdriver-manager\n",
    "# used for automation chrome:\n",
    "from selenium import webdriver\n",
    "from webdriver_manager.chrome import ChromeDriverManager\n",
    "\n",
    "driver = webdriver.Chrome(ChromeDriverManager().install())\n",
    "# This warning is not harmful per-se, and doesn't affect any installation \n",
    "# logic. You can safely use the current pip, ignoring this warning for now."
   ]
  },
  {
   "cell_type": "markdown",
   "metadata": {},
   "source": [
    "- <font color=\"#ff3399\">so now we need to create two lists.</font>\n",
    "* First, named list_urls holds all the pages you’d like to scrape.\n",
    "* Secondcreate an empty list where you’ll append links from each page."
   ]
  },
  {
   "cell_type": "code",
   "execution_count": 32,
   "metadata": {},
   "outputs": [],
   "source": [
    "# So here we are taking 2 phishing sites in the list:\n",
    "urls_list = ['http://24fxtradetech.com.cp-16.webhostbox.net/', 'http://www.autoentsorgen.ch/sitemaps.html']\n",
    "links_with_text = []"
   ]
  },
  {
   "cell_type": "markdown",
   "metadata": {},
   "source": [
    "- <font color=\"#3333ff\">I took some phishing site to see were the hackers redirect(on different link) us.</font>\n",
    "* So, to extract only relevant hyperlinks for Google, i.e., links only with '<'a'>' tag with href attributes."
   ]
  },
  {
   "cell_type": "markdown",
   "metadata": {},
   "source": [
    "### <font color=\"#00cccc\">BeautifulSoup Library</font>\n",
    "* It is use for getting data out of HTML, XML, and other markup languages. "
   ]
  },
  {
   "cell_type": "code",
   "execution_count": 33,
   "metadata": {},
   "outputs": [],
   "source": [
    "# used for scraping the data from websites:\n",
    "from bs4 import BeautifulSoup"
   ]
  },
  {
   "cell_type": "code",
   "execution_count": 34,
   "metadata": {},
   "outputs": [],
   "source": [
    "for url in urls_list:\n",
    "    driver.get(url)\n",
    "    soup = BeautifulSoup(driver.page_source, \"html.parser\")\n",
    "    for line in soup.find_all('a'):\n",
    "        href = line.get('href')\n",
    "        links_with_text.append([url, href])"
   ]
  },
  {
   "cell_type": "markdown",
   "metadata": {},
   "source": [
    "### <font color=\"#ffb3b3\">Turn the URL's into a DataFrame</font>\n",
    "* After you get the list of your websites with hyperlinks turn them into a Pandas DataFrame with columns “from” (URL where the link resides) and “to” (link destination URL)"
   ]
  },
  {
   "cell_type": "code",
   "execution_count": 35,
   "metadata": {},
   "outputs": [],
   "source": [
    "import pandas as pd"
   ]
  },
  {
   "cell_type": "code",
   "execution_count": 36,
   "metadata": {},
   "outputs": [],
   "source": [
    "df = pd.DataFrame(links_with_text, columns=[\"from\", \"to\"])"
   ]
  },
  {
   "cell_type": "code",
   "execution_count": 37,
   "metadata": {},
   "outputs": [
    {
     "data": {
      "text/html": [
       "<div>\n",
       "<style scoped>\n",
       "    .dataframe tbody tr th:only-of-type {\n",
       "        vertical-align: middle;\n",
       "    }\n",
       "\n",
       "    .dataframe tbody tr th {\n",
       "        vertical-align: top;\n",
       "    }\n",
       "\n",
       "    .dataframe thead th {\n",
       "        text-align: right;\n",
       "    }\n",
       "</style>\n",
       "<table border=\"1\" class=\"dataframe\">\n",
       "  <thead>\n",
       "    <tr style=\"text-align: right;\">\n",
       "      <th></th>\n",
       "      <th>from</th>\n",
       "      <th>to</th>\n",
       "    </tr>\n",
       "  </thead>\n",
       "  <tbody>\n",
       "    <tr>\n",
       "      <th>0</th>\n",
       "      <td>http://24fxtradetech.com.cp-16.webhostbox.net/</td>\n",
       "      <td>Webhostbox.net</td>\n",
       "    </tr>\n",
       "    <tr>\n",
       "      <th>1</th>\n",
       "      <td>http://24fxtradetech.com.cp-16.webhostbox.net/</td>\n",
       "      <td>http://freeresultsguide.com/Domain_Name_Regist...</td>\n",
       "    </tr>\n",
       "    <tr>\n",
       "      <th>2</th>\n",
       "      <td>http://24fxtradetech.com.cp-16.webhostbox.net/</td>\n",
       "      <td>http://freeresultsguide.com/Top_10_Domain_Host...</td>\n",
       "    </tr>\n",
       "    <tr>\n",
       "      <th>3</th>\n",
       "      <td>http://24fxtradetech.com.cp-16.webhostbox.net/</td>\n",
       "      <td>http://freeresultsguide.com/Best_Web_Hosting_P...</td>\n",
       "    </tr>\n",
       "    <tr>\n",
       "      <th>4</th>\n",
       "      <td>http://24fxtradetech.com.cp-16.webhostbox.net/</td>\n",
       "      <td>http://freeresultsguide.com/Best_Forum_Hosting...</td>\n",
       "    </tr>\n",
       "    <tr>\n",
       "      <th>5</th>\n",
       "      <td>http://24fxtradetech.com.cp-16.webhostbox.net/</td>\n",
       "      <td>http://freeresultsguide.com/Hosting_Coupon_Cod...</td>\n",
       "    </tr>\n",
       "    <tr>\n",
       "      <th>6</th>\n",
       "      <td>http://24fxtradetech.com.cp-16.webhostbox.net/</td>\n",
       "      <td>http://freeresultsguide.com/Top_10_Web_Hosting...</td>\n",
       "    </tr>\n",
       "    <tr>\n",
       "      <th>7</th>\n",
       "      <td>http://24fxtradetech.com.cp-16.webhostbox.net/</td>\n",
       "      <td>http://freeresultsguide.com/Web_Hosting_Offers...</td>\n",
       "    </tr>\n",
       "    <tr>\n",
       "      <th>8</th>\n",
       "      <td>http://24fxtradetech.com.cp-16.webhostbox.net/</td>\n",
       "      <td>http://freeresultsguide.com/Domain_Name_Regist...</td>\n",
       "    </tr>\n",
       "    <tr>\n",
       "      <th>9</th>\n",
       "      <td>http://24fxtradetech.com.cp-16.webhostbox.net/</td>\n",
       "      <td>http://freeresultsguide.com/Top_10_Domain_Host...</td>\n",
       "    </tr>\n",
       "  </tbody>\n",
       "</table>\n",
       "</div>"
      ],
      "text/plain": [
       "                                             from  \\\n",
       "0  http://24fxtradetech.com.cp-16.webhostbox.net/   \n",
       "1  http://24fxtradetech.com.cp-16.webhostbox.net/   \n",
       "2  http://24fxtradetech.com.cp-16.webhostbox.net/   \n",
       "3  http://24fxtradetech.com.cp-16.webhostbox.net/   \n",
       "4  http://24fxtradetech.com.cp-16.webhostbox.net/   \n",
       "5  http://24fxtradetech.com.cp-16.webhostbox.net/   \n",
       "6  http://24fxtradetech.com.cp-16.webhostbox.net/   \n",
       "7  http://24fxtradetech.com.cp-16.webhostbox.net/   \n",
       "8  http://24fxtradetech.com.cp-16.webhostbox.net/   \n",
       "9  http://24fxtradetech.com.cp-16.webhostbox.net/   \n",
       "\n",
       "                                                  to  \n",
       "0                                     Webhostbox.net  \n",
       "1  http://freeresultsguide.com/Domain_Name_Regist...  \n",
       "2  http://freeresultsguide.com/Top_10_Domain_Host...  \n",
       "3  http://freeresultsguide.com/Best_Web_Hosting_P...  \n",
       "4  http://freeresultsguide.com/Best_Forum_Hosting...  \n",
       "5  http://freeresultsguide.com/Hosting_Coupon_Cod...  \n",
       "6  http://freeresultsguide.com/Top_10_Web_Hosting...  \n",
       "7  http://freeresultsguide.com/Web_Hosting_Offers...  \n",
       "8  http://freeresultsguide.com/Domain_Name_Regist...  \n",
       "9  http://freeresultsguide.com/Top_10_Domain_Host...  "
      ]
     },
     "execution_count": 37,
     "metadata": {},
     "output_type": "execute_result"
    }
   ],
   "source": [
    "df.head(10)"
   ]
  },
  {
   "cell_type": "markdown",
   "metadata": {},
   "source": [
    "### <font color=\"#3399ff\">Draw a graph</font>\n",
    "* Finally, use the aforementioned DataFrame to visualize an internal link structure by feeding it to the Networkx method from_pandas_edgelist first and draw it by calling nx.draw"
   ]
  },
  {
   "cell_type": "code",
   "execution_count": 38,
   "metadata": {},
   "outputs": [],
   "source": [
    "# for the creation, manipulation, and study of the structure, dynamics, and functions of complex networks.\n",
    "import networkx as nx"
   ]
  },
  {
   "cell_type": "code",
   "execution_count": 89,
   "metadata": {
    "scrolled": true
   },
   "outputs": [
    {
     "data": {
      "image/png": "[encoded data removed]",
      "text/plain": [
       "<Figure size 432x288 with 1 Axes>"
      ]
     },
     "metadata": {},
     "output_type": "display_data"
    }
   ],
   "source": [
    "ash = nx.from_pandas_edgelist(df, source='from', target='to')\n",
    "nx.draw(ash, with_labels=False, node_color=\"red\")"
   ]
  },
  {
   "cell_type": "markdown",
   "metadata": {},
   "source": [
    "### <font color=\"#ff3366\">Creating Model</font>\n",
    "* Using CountVectorizer is used to transform a corpora of text to a vector of term / token counts."
   ]
  },
  {
   "cell_type": "code",
   "execution_count": 40,
   "metadata": {},
   "outputs": [],
   "source": [
    "# create sparse matrix of words using regexptokenizes: \n",
    "from sklearn.feature_extraction.text import CountVectorizer"
   ]
  },
  {
   "cell_type": "code",
   "execution_count": 41,
   "metadata": {},
   "outputs": [],
   "source": [
    "# Now we create a CV object:\n",
    "CV = CountVectorizer()"
   ]
  },
  {
   "cell_type": "code",
   "execution_count": 42,
   "metadata": {},
   "outputs": [],
   "source": [
    "# transform all text which we tokenize and stemed:\n",
    "feature = CV.fit_transform(phishing_data.text_to_sent)"
   ]
  },
  {
   "cell_type": "code",
   "execution_count": 43,
   "metadata": {},
   "outputs": [
    {
     "data": {
      "text/plain": [
       "array([[0, 0, 0, ..., 0, 0, 0],\n",
       "       [0, 0, 0, ..., 0, 0, 0],\n",
       "       [0, 0, 0, ..., 0, 0, 0],\n",
       "       [0, 0, 0, ..., 0, 0, 0],\n",
       "       [0, 0, 0, ..., 0, 0, 0]], dtype=int64)"
      ]
     },
     "execution_count": 43,
     "metadata": {},
     "output_type": "execute_result"
    }
   ],
   "source": [
    "# convert sparse matrix into array to print transformed features:\n",
    "feature[:5].toarray()"
   ]
  },
  {
   "cell_type": "code",
   "execution_count": 44,
   "metadata": {},
   "outputs": [],
   "source": [
    "# spliting the data between feature and target:\n",
    "from sklearn.model_selection import train_test_split\n",
    "\n",
    "# gives whole report about metrics (e.g, recall,precision,f1_score,c_m):\n",
    "from sklearn.metrics import classification_report\n",
    "\n",
    "# gives info about actual and predicted:\n",
    "from sklearn.metrics import confusion_matrix"
   ]
  },
  {
   "cell_type": "code",
   "execution_count": 45,
   "metadata": {},
   "outputs": [],
   "source": [
    "# Splitting the data:\n",
    "train_X, test_X, train_Y, test_Y = train_test_split(feature, phishing_data.Label)"
   ]
  },
  {
   "cell_type": "markdown",
   "metadata": {},
   "source": [
    "### <font color=\"#e6e600\">Logistic Regression</font>\n",
    "* Logistic Regression is a Machine Learning classification algorithm that is used to predict the probability of a categorical dependent variable. In logistic regression, the dependent variable is a binary variable that contains data coded as 1 (yes, success, etc.) or 0 (no, failure, etc.). In other words, the logistic regression model predicts P(Y=1) as a function of X."
   ]
  },
  {
   "cell_type": "code",
   "execution_count": 46,
   "metadata": {},
   "outputs": [],
   "source": [
    "# algo use to predict not phishing site or phishing site: \n",
    "from sklearn.linear_model import LogisticRegression"
   ]
  },
  {
   "cell_type": "code",
   "execution_count": 47,
   "metadata": {},
   "outputs": [],
   "source": [
    "# create an object for Logistic Regression()\n",
    "lr = LogisticRegression()"
   ]
  },
  {
   "cell_type": "code",
   "execution_count": 48,
   "metadata": {},
   "outputs": [
    {
     "name": "stderr",
     "output_type": "stream",
     "text": [
      "C:\\Users\\Ashhar\\anaconda3\\lib\\site-packages\\sklearn\\linear_model\\_logistic.py:762: ConvergenceWarning: lbfgs failed to converge (status=1):\n",
      "STOP: TOTAL NO. of ITERATIONS REACHED LIMIT.\n",
      "\n",
      "Increase the number of iterations (max_iter) or scale the data as shown in:\n",
      "    https://scikit-learn.org/stable/modules/preprocessing.html\n",
      "Please also refer to the documentation for alternative solver options:\n",
      "    https://scikit-learn.org/stable/modules/linear_model.html#logistic-regression\n",
      "  n_iter_i = _check_optimize_result(\n"
     ]
    },
    {
     "data": {
      "text/plain": [
       "LogisticRegression()"
      ]
     },
     "execution_count": 48,
     "metadata": {},
     "output_type": "execute_result"
    }
   ],
   "source": [
    "lr.fit(train_X, train_Y)"
   ]
  },
  {
   "cell_type": "code",
   "execution_count": 49,
   "metadata": {},
   "outputs": [
    {
     "data": {
      "text/plain": [
       "0.9635608386317673"
      ]
     },
     "execution_count": 49,
     "metadata": {},
     "output_type": "execute_result"
    }
   ],
   "source": [
    "# Here we are calculating the score of tests:\n",
    "lr.score(test_X, test_Y)"
   ]
  },
  {
   "cell_type": "markdown",
   "metadata": {},
   "source": [
    "### <font color=\"#00ffaa\">LR Score</font>\n",
    "* Logistic Regression is giving us 96% accuracy, Now we will store scores in dict to see which model perform best of all"
   ]
  },
  {
   "cell_type": "code",
   "execution_count": 50,
   "metadata": {},
   "outputs": [],
   "source": [
    "Score_ml = {}\n",
    "Score_ml['Logistic Regression'] = np.round(lr.score(test_X, test_Y), 2)"
   ]
  },
  {
   "cell_type": "code",
   "execution_count": 51,
   "metadata": {},
   "outputs": [
    {
     "name": "stdout",
     "output_type": "stream",
     "text": [
      "Training Accuracy:  0.9775064018002638\n",
      "Testing Accuracy:  0.9635608386317673\n",
      "\n",
      "Classification Report: \n",
      "\n",
      "              precision    recall  f1-score   support\n",
      "\n",
      "         Bad       0.90      0.97      0.93     36560\n",
      "        Good       0.99      0.96      0.97    100902\n",
      "\n",
      "    accuracy                           0.96    137462\n",
      "   macro avg       0.95      0.96      0.95    137462\n",
      "weighted avg       0.97      0.96      0.96    137462\n",
      "\n",
      "\n",
      "confusion Matrix: \n",
      "\n"
     ]
    },
    {
     "data": {
      "text/plain": [
       "<matplotlib.axes._subplots.AxesSubplot at 0x13aa9d98eb0>"
      ]
     },
     "execution_count": 51,
     "metadata": {},
     "output_type": "execute_result"
    },
    {
     "data": {
      "image/png": "[encoded data removed]",
      "text/plain": [
       "<Figure size 432x288 with 2 Axes>"
      ]
     },
     "metadata": {},
     "output_type": "display_data"
    }
   ],
   "source": [
    "print('Training Accuracy: ',lr.score(train_X, train_Y))\n",
    "print('Testing Accuracy: ',lr.score(test_X, test_Y))\n",
    "# here we create confusion matrix:\n",
    "conf_mat = pd.DataFrame(confusion_matrix(lr.predict(test_X), test_Y),\n",
    "                       columns = ['Predicted: Phishing', 'Predicted: Not Phishing'],\n",
    "                       index = ['Actual: Phishing', 'Actual: Not Phishing'])\n",
    "\n",
    "print('\\nClassification Report: \\n')\n",
    "print(classification_report(lr.predict(test_X), test_Y,\n",
    "                           target_names = ['Bad', 'Good']))\n",
    "\n",
    "print('\\nconfusion Matrix: \\n')\n",
    "plt.figure(figsize = (6, 4))\n",
    "sns.heatmap(conf_mat, annot = True, fmt='d', cmap=\"RdYlBu\")"
   ]
  },
  {
   "cell_type": "markdown",
   "metadata": {},
   "source": [
    "### <font color=\"#00bfff\">MultinomialNB</font>\n",
    "* Applying Multinomial Naive Bayes to NLP Problems. Naive Bayes Classifier Algorithm is a family of probabilistic algorithms based on applying Bayes' theorem with the “naive” assumption of conditional independence between every pair of a feature."
   ]
  },
  {
   "cell_type": "code",
   "execution_count": 52,
   "metadata": {},
   "outputs": [],
   "source": [
    "# nlp algo use to predict not phishing site or phishing site:\n",
    "from sklearn.naive_bayes import MultinomialNB"
   ]
  },
  {
   "cell_type": "code",
   "execution_count": 53,
   "metadata": {},
   "outputs": [],
   "source": [
    "# create mnb object\n",
    "mnb = MultinomialNB()"
   ]
  },
  {
   "cell_type": "code",
   "execution_count": 54,
   "metadata": {},
   "outputs": [
    {
     "data": {
      "text/plain": [
       "MultinomialNB()"
      ]
     },
     "execution_count": 54,
     "metadata": {},
     "output_type": "execute_result"
    }
   ],
   "source": [
    "mnb.fit(train_X, train_Y)"
   ]
  },
  {
   "cell_type": "code",
   "execution_count": 55,
   "metadata": {},
   "outputs": [
    {
     "data": {
      "text/plain": [
       "0.9569990251851421"
      ]
     },
     "execution_count": 55,
     "metadata": {},
     "output_type": "execute_result"
    }
   ],
   "source": [
    "mnb.score(test_X, test_Y)"
   ]
  },
  {
   "cell_type": "markdown",
   "metadata": {},
   "source": [
    "### <font color=\"#ff5500\">MultinomialNB Score</font>\n",
    "* MultinomialNB is giving us 95% accuracy. So, now we will store scores in dict to see which model perform best of all."
   ]
  },
  {
   "cell_type": "code",
   "execution_count": 56,
   "metadata": {},
   "outputs": [],
   "source": [
    "Score_ml['MultinomialNB'] = np.round(mnb.score(test_X, test_Y), 2)"
   ]
  },
  {
   "cell_type": "code",
   "execution_count": 57,
   "metadata": {},
   "outputs": [
    {
     "name": "stdout",
     "output_type": "stream",
     "text": [
      "Training Accuracy:  0.973949037790021\n",
      "Testing Accuracy:  0.9569990251851421\n",
      "\n",
      "Classification Report\n",
      "\n",
      "              precision    recall  f1-score   support\n",
      "\n",
      "         Bad       0.91      0.93      0.92     38170\n",
      "        Good       0.97      0.97      0.97     99292\n",
      "\n",
      "    accuracy                           0.96    137462\n",
      "   macro avg       0.94      0.95      0.95    137462\n",
      "weighted avg       0.96      0.96      0.96    137462\n",
      "\n",
      "\n",
      "Confusion Matrix\n",
      "\n"
     ]
    },
    {
     "data": {
      "text/plain": [
       "<matplotlib.axes._subplots.AxesSubplot at 0x13aaf185fa0>"
      ]
     },
     "execution_count": 57,
     "metadata": {},
     "output_type": "execute_result"
    },
    {
     "data": {
      "image/png": "[encoded data removed]",
      "text/plain": [
       "<Figure size 432x288 with 2 Axes>"
      ]
     },
     "metadata": {},
     "output_type": "display_data"
    }
   ],
   "source": [
    "print('Training Accuracy: ',mnb.score(train_X, train_Y))\n",
    "print('Testing Accuracy: ',mnb.score(test_X, test_Y))\n",
    "\n",
    "conf_mat = pd.DataFrame(confusion_matrix(mnb.predict(test_X), test_Y),\n",
    "                       columns = ['Predicted: Phishing', 'Predicted: Not Phishing'],\n",
    "                       index = ['Actual: Phishing', 'Actual: Not Phishing'])\n",
    "\n",
    "print('\\nClassification Report\\n')\n",
    "print(classification_report(mnb.predict(test_X), test_Y,\n",
    "                           target_names = ['Bad', 'Good']))\n",
    "\n",
    "print('\\nConfusion Matrix\\n')\n",
    "plt.figure(figsize = (6,4))\n",
    "sns.heatmap(conf_mat, annot = True, fmt='d', cmap='PuBuGn_r')"
   ]
  },
  {
   "cell_type": "code",
   "execution_count": 58,
   "metadata": {},
   "outputs": [
    {
     "name": "stdout",
     "output_type": "stream",
     "text": [
      "Actual Score of Logistic Regression: \n",
      "0.9635608386317673\n",
      "\n",
      "Actual Score of MultinomialNB: \n",
      "0.9569990251851421\n",
      "\n",
      "Final Rounded Score: \n",
      "                     Accuracy\n",
      "Logistic Regression      0.96\n",
      "MultinomialNB            0.96\n"
     ]
    },
    {
     "data": {
      "text/plain": [
       "<matplotlib.axes._subplots.AxesSubplot at 0x13aaee240d0>"
      ]
     },
     "execution_count": 58,
     "metadata": {},
     "output_type": "execute_result"
    },
    {
     "data": {
      "image/png": "[encoded data removed]",
      "text/plain": [
       "<Figure size 432x288 with 1 Axes>"
      ]
     },
     "metadata": {},
     "output_type": "display_data"
    }
   ],
   "source": [
    "results = pd.DataFrame.from_dict(Score_ml, \n",
    "                                 orient = 'index', \n",
    "                                 columns = ['Accuracy'])\n",
    "\n",
    "print(f\"Actual Score of Logistic Regression: \\n{lr.score(test_X, test_Y)}\\n\")\n",
    "print(f\"Actual Score of MultinomialNB: \\n{mnb.score(test_X, test_Y)}\\n\")\n",
    "print(f\"Final Rounded Score: \\n{results}\")\n",
    "\n",
    "sns.set_style('darkgrid')\n",
    "sns.barplot(results.index, results.Accuracy)"
   ]
  },
  {
   "cell_type": "markdown",
   "metadata": {},
   "source": [
    "### <font color=\"#ff5500\">Best fit Model</font>\n",
    "* In the above results we can clearly see that the Logistic Regression is the best fit model with actual score of 96%.\n",
    "* So, now we make sklearn pipeline using Logistic Regression."
   ]
  },
  {
   "cell_type": "code",
   "execution_count": 59,
   "metadata": {},
   "outputs": [],
   "source": [
    "# Used for combining all preprocessor techniques and algorithms:\n",
    "from sklearn.pipeline import make_pipeline"
   ]
  },
  {
   "cell_type": "code",
   "execution_count": 60,
   "metadata": {},
   "outputs": [],
   "source": [
    "# Making a pipeline:\n",
    "pipeline_ls = make_pipeline(CountVectorizer(tokenizer = RegexpTokenizer(r'[A-Za-z]+').tokenize, stop_words='english'), LogisticRegression())"
   ]
  },
  {
   "cell_type": "code",
   "execution_count": 61,
   "metadata": {},
   "outputs": [],
   "source": [
    "train_X, test_X, train_Y, test_Y = train_test_split(phishing_data.URL, phishing_data.Label)"
   ]
  },
  {
   "cell_type": "code",
   "execution_count": 62,
   "metadata": {},
   "outputs": [
    {
     "name": "stderr",
     "output_type": "stream",
     "text": [
      "C:\\Users\\Ashhar\\anaconda3\\lib\\site-packages\\sklearn\\linear_model\\_logistic.py:762: ConvergenceWarning: lbfgs failed to converge (status=1):\n",
      "STOP: TOTAL NO. of ITERATIONS REACHED LIMIT.\n",
      "\n",
      "Increase the number of iterations (max_iter) or scale the data as shown in:\n",
      "    https://scikit-learn.org/stable/modules/preprocessing.html\n",
      "Please also refer to the documentation for alternative solver options:\n",
      "    https://scikit-learn.org/stable/modules/linear_model.html#logistic-regression\n",
      "  n_iter_i = _check_optimize_result(\n"
     ]
    },
    {
     "data": {
      "text/plain": [
       "Pipeline(steps=[('countvectorizer',\n",
       "                 CountVectorizer(stop_words='english',\n",
       "                                 tokenizer=<bound method RegexpTokenizer.tokenize of RegexpTokenizer(pattern='[A-Za-z]+', gaps=False, discard_empty=True, flags=re.UNICODE|re.MULTILINE|re.DOTALL)>)),\n",
       "                ('logisticregression', LogisticRegression())])"
      ]
     },
     "execution_count": 62,
     "metadata": {},
     "output_type": "execute_result"
    }
   ],
   "source": [
    "pipeline_ls.fit(train_X, train_Y)"
   ]
  },
  {
   "cell_type": "code",
   "execution_count": 63,
   "metadata": {},
   "outputs": [
    {
     "data": {
      "text/plain": [
       "0.9659760515633411"
      ]
     },
     "execution_count": 63,
     "metadata": {},
     "output_type": "execute_result"
    }
   ],
   "source": [
    "pipeline_ls.score(test_X, test_Y)"
   ]
  },
  {
   "cell_type": "code",
   "execution_count": 64,
   "metadata": {},
   "outputs": [
    {
     "name": "stdout",
     "output_type": "stream",
     "text": [
      "Traing Accuracy:  0.9807170016295491\n",
      "Testing Accuracy:  0.9659760515633411\n",
      "\n",
      "Classification Report \n",
      "\n",
      "              precision    recall  f1-score   support\n",
      "\n",
      "         Bad       0.91      0.97      0.94     36834\n",
      "        Good       0.99      0.97      0.98    100628\n",
      "\n",
      "    accuracy                           0.97    137462\n",
      "   macro avg       0.95      0.97      0.96    137462\n",
      "weighted avg       0.97      0.97      0.97    137462\n",
      "\n",
      "\n",
      "Confusion Matrix \n",
      "\n"
     ]
    },
    {
     "data": {
      "text/plain": [
       "<matplotlib.axes._subplots.AxesSubplot at 0x13aa60ecca0>"
      ]
     },
     "execution_count": 64,
     "metadata": {},
     "output_type": "execute_result"
    },
    {
     "data": {
      "image/png": "[encoded data removed]",
      "text/plain": [
       "<Figure size 432x288 with 2 Axes>"
      ]
     },
     "metadata": {},
     "output_type": "display_data"
    }
   ],
   "source": [
    "print(\"Traing Accuracy: \",pipeline_ls.score(train_X, train_Y))\n",
    "print(\"Testing Accuracy: \",pipeline_ls.score(test_X, test_Y))\n",
    "\n",
    "conf_mat = pd.DataFrame(confusion_matrix(pipeline_ls.predict(test_X), test_Y), \n",
    "                       columns = [\"Predicted: Phishing\", \"Predicted: Not Phishing\"],\n",
    "                       index = [\"Actual: Phishing\", \"Actual: Not Phishing\"])\n",
    "\n",
    "print(\"\\nClassification Report \\n\")\n",
    "print(classification_report(pipeline_ls.predict(test_X), test_Y,\n",
    "                            target_names = ['Bad', 'Good']))\n",
    "\n",
    "print(\"\\nConfusion Matrix \\n\")\n",
    "plt.figure(figsize = (6,4))\n",
    "sns.heatmap(conf_mat, annot = True, fmt = 'd', cmap=\"Blues\")\n"
   ]
  },
  {
   "cell_type": "code",
   "execution_count": 65,
   "metadata": {},
   "outputs": [],
   "source": [
    "# So now we dump our model using pickle:\n",
    "import pickle\n",
    "# Python's pickle module is for: it serializes objects so they can be saved to a file, and loaded in a program again later on."
   ]
  },
  {
   "cell_type": "code",
   "execution_count": 66,
   "metadata": {},
   "outputs": [
    {
     "name": "stdout",
     "output_type": "stream",
     "text": [
      "<_io.BufferedReader name='phishing.pkl'>\n",
      "\n",
      "Pipeline(steps=[('countvectorizer',\n",
      "                 CountVectorizer(stop_words='english',\n",
      "                                 tokenizer=<bound method RegexpTokenizer.tokenize of RegexpTokenizer(pattern='[A-Za-z]+', gaps=False, discard_empty=True, flags=re.UNICODE|re.MULTILINE|re.DOTALL)>)),\n",
      "                ('logisticregression', LogisticRegression())])\n"
     ]
    }
   ],
   "source": [
    "op = open('phishing.pkl', 'rb')\n",
    "# Here, the 'r' stands for read mode and the 'b' stands for binary mode.\n",
    "\n",
    "dicts = pickle.load(op, encoding = 'UTF8')\n",
    "op.close()\n",
    "print(f\"{op}\\n\")\n",
    "print(dicts)"
   ]
  },
  {
   "cell_type": "code",
   "execution_count": 67,
   "metadata": {},
   "outputs": [],
   "source": [
    "pickle.dump(pipeline_ls, open('phishing.pkl', 'wb'))\n",
    "# Here, The 'w' means that you'll be writing to the file, and 'b' refers to binary mode."
   ]
  },
  {
   "cell_type": "code",
   "execution_count": 68,
   "metadata": {},
   "outputs": [
    {
     "name": "stdout",
     "output_type": "stream",
     "text": [
      "0.9659760515633411\n"
     ]
    }
   ],
   "source": [
    "loaded_model = pickle.load(open('phishing.pkl', 'rb'))\n",
    "result = loaded_model.score(test_X, test_Y)\n",
    "print(result)"
   ]
  },
  {
   "cell_type": "markdown",
   "metadata": {},
   "source": [
    "# <font color=\"#009999\">🙌Conclusion</font>\n",
    "* That’s it. See, it's that simple yet so effective. We get an accuracy of 96%. That’s a very high value for a machine to be able to detect a malicious URL with. Want to test some links to see if the model gives good predictions? Sure. Let's do it"
   ]
  },
  {
   "cell_type": "markdown",
   "metadata": {},
   "source": [
    "##### <font color=\"#ff0000\">❌ Bad Links</font> \n",
    "* __These are some Phishing links!__\n",
    "   1. www.yeniik.com.tr/wp-admin/js/login.alibaba.com/login.jsp.php\n",
    "   2. www.fazan-pacir.rs/temp/libraries/ipad\n",
    "   3. www.tubemoviez.exe\n",
    "   4. www.svision-online.de/mgfi/administrator/components/com_babackup/classes/fx29id1.txt\n",
    "   "
   ]
  },
  {
   "cell_type": "markdown",
   "metadata": {},
   "source": [
    "##### <font color=\"#77ff33\">✔ Good Links</font>\n",
    "* __These are some not Phishing links!__\n",
    "   1. www.youtube.com/\n",
    "   2. www.python.org/\n",
    "   3. www.google.com/\n",
    "   4. www.kaggle.com/\n",
    "   "
   ]
  },
  {
   "cell_type": "code",
   "execution_count": 69,
   "metadata": {},
   "outputs": [],
   "source": [
    "predict_bad = ['www.yeniik.com.tr/wp-admin/js/login.alibaba.com/login.jsp.php',\n",
    "               'www.fazan-pacir.rs/temp/libraries/ipad',\n",
    "               'www.tubemoviez.exe/',\n",
    "               'www.svision-online.de/mgfi/administrator/components/com_babackup/classes/fx29id1.txt']\n",
    "\n",
    "predict_good = ['www.youtube.com/',\n",
    "                'www.python.org/',\n",
    "                'www.google.com/',\n",
    "                'www.kaggle.com/']\n",
    "\n",
    "loaded_model = pickle.load(open('phishing.pkl', 'rb'))\n",
    "#predict_bad = vectorizers.transform(predict_bad)\n",
    "# predict_good = vectorizer.transform(predict_good)\n",
    "\n",
    "result_1 = loaded_model.predict(predict_bad)\n",
    "result_2 = loaded_model.predict(predict_good)"
   ]
  },
  {
   "cell_type": "code",
   "execution_count": 70,
   "metadata": {},
   "outputs": [
    {
     "name": "stdout",
     "output_type": "stream",
     "text": [
      "['bad' 'bad' 'bad' 'bad'] \n",
      " -------------------------- \n",
      "['good' 'good' 'good' 'good']\n"
     ]
    }
   ],
   "source": [
    "print(f\"{result_1} \\n {'-'*26} \\n{result_2}\")"
   ]
  },
  {
   "cell_type": "markdown",
   "metadata": {},
   "source": [
    "# `Project Terminated Here... 😎`"
   ]
  }
 ],
 "metadata": {
  "kernelspec": {
   "display_name": "Python 3",
   "language": "python",
   "name": "python3"
  },
  "language_info": {
   "codemirror_mode": {
    "name": "ipython",
    "version": 3
   },
   "file_extension": ".py",
   "mimetype": "text/x-python",
   "name": "python",
   "nbconvert_exporter": "python",
   "pygments_lexer": "ipython3",
   "version": "3.8.3"
  }
 },
 "nbformat": 4,
 "nbformat_minor": 4
}
